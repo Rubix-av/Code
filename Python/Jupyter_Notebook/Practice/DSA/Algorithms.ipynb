{
 "cells": [
  {
   "cell_type": "markdown",
   "id": "0404896f",
   "metadata": {},
   "source": [
    "### Binary Search"
   ]
  },
  {
   "cell_type": "code",
   "execution_count": 1,
   "id": "c1993a60",
   "metadata": {},
   "outputs": [],
   "source": [
    "l = [10, 20, 30, 40, 50, 60]"
   ]
  },
  {
   "cell_type": "code",
   "execution_count": 2,
   "id": "a743688b",
   "metadata": {},
   "outputs": [],
   "source": [
    "import time\n",
    "\n",
    "def binary_search(v, l):\n",
    "    if not l:\n",
    "        return False\n",
    "\n",
    "    m = len(l) // 2\n",
    "\n",
    "    if v == l[m]:\n",
    "        return True\n",
    "    elif v < l[m]:\n",
    "        return binary_search(v, l[:m])\n",
    "    else:\n",
    "        return binary_search(v, l[m + 1:])"
   ]
  },
  {
   "cell_type": "code",
   "execution_count": 3,
   "id": "3080cf81",
   "metadata": {},
   "outputs": [
    {
     "name": "stdout",
     "output_type": "stream",
     "text": [
      "True\n"
     ]
    }
   ],
   "source": [
    "print(binary_search(50,l))"
   ]
  },
  {
   "cell_type": "markdown",
   "id": "11e520b3-dfaf-4985-ace7-f0732e40a364",
   "metadata": {
    "jp-MarkdownHeadingCollapsed": true
   },
   "source": [
    "### Adjacency List"
   ]
  },
  {
   "cell_type": "code",
   "execution_count": 33,
   "id": "5fbb9fa6-d52e-425a-ad08-04b573b5a2cd",
   "metadata": {},
   "outputs": [],
   "source": [
    "num_nodes = 5\n",
    "edges = ((0,1),(0,4),(1,2),(1,3),(1,4),(2,3),(3,4))"
   ]
  },
  {
   "cell_type": "code",
   "execution_count": 34,
   "id": "120ee452-19d4-4054-8a8c-50777ce8f336",
   "metadata": {},
   "outputs": [],
   "source": [
    "class Graph:\n",
    "    def __init__(self, num_nodes, edges):\n",
    "        self.num_nodes = num_nodes\n",
    "        self.data = [[] for _ in range(num_nodes)]\n",
    "        for n1,n2 in edges:\n",
    "            self.data[n1].append(n2)\n",
    "            self.data[n2].append(n1)\n",
    "\n",
    "    def add_edge(self,edge):\n",
    "        for n1,n2 in [edge]:\n",
    "            self.data[n1].append(n2)\n",
    "            self.data[n2].append(n1)\n",
    "    \n",
    "    def __repr__(self):\n",
    "        return \"\\n\".join([\"{}: {}\".format(n,neighbors) for n,neighbors in enumerate(self.data)])\n",
    "\n",
    "    def __str__(self):\n",
    "        return self.__repr__()"
   ]
  },
  {
   "cell_type": "code",
   "execution_count": 35,
   "id": "cfc096a1-9cd5-4380-b4bd-0b4db290659d",
   "metadata": {},
   "outputs": [],
   "source": [
    "graph1 = Graph(num_nodes, edges)"
   ]
  },
  {
   "cell_type": "code",
   "execution_count": 36,
   "id": "ae22ba4e-4c21-4376-bc51-790a506cb603",
   "metadata": {},
   "outputs": [
    {
     "data": {
      "text/plain": [
       "0: [1, 4]\n",
       "1: [0, 2, 3, 4]\n",
       "2: [1, 3]\n",
       "3: [1, 2, 4]\n",
       "4: [0, 1, 3]"
      ]
     },
     "execution_count": 36,
     "metadata": {},
     "output_type": "execute_result"
    }
   ],
   "source": [
    "graph1"
   ]
  },
  {
   "cell_type": "code",
   "execution_count": 37,
   "id": "e0c1826b-e7aa-4826-9260-d1d7773671b6",
   "metadata": {
    "scrolled": true
   },
   "outputs": [
    {
     "data": {
      "text/plain": [
       "0: [1, 4, 3]\n",
       "1: [0, 2, 3, 4]\n",
       "2: [1, 3]\n",
       "3: [1, 2, 4, 0]\n",
       "4: [0, 1, 3]"
      ]
     },
     "execution_count": 37,
     "metadata": {},
     "output_type": "execute_result"
    }
   ],
   "source": [
    "graph1.add_edge((0,3))\n",
    "graph1"
   ]
  },
  {
   "cell_type": "markdown",
   "id": "ddcbc3c1-f0d8-4a0f-b594-1ff4f70a3b22",
   "metadata": {
    "jp-MarkdownHeadingCollapsed": true
   },
   "source": [
    "### Selection Sort"
   ]
  },
  {
   "cell_type": "code",
   "execution_count": 1,
   "id": "3588e62f-ed00-44d0-925f-0f62e2813123",
   "metadata": {},
   "outputs": [],
   "source": [
    "L = [40,20,60,10,50,30]"
   ]
  },
  {
   "cell_type": "code",
   "execution_count": 6,
   "id": "6bb9cc9b-de85-4ef0-8f31-d15b6d091be3",
   "metadata": {},
   "outputs": [],
   "source": [
    "def selection_sort(L):\n",
    "    for i in range(0,len(L)-1):\n",
    "    \n",
    "        #min is the index number of the minimum element in list\n",
    "        min = i\n",
    "    \n",
    "        #this loops checks the current min to rest of the elements in list\n",
    "        for j in range(i+1,len(L)):\n",
    "            if L[j] < L[min]:\n",
    "                min = j\n",
    "            else:\n",
    "                pass\n",
    "    \n",
    "        #Swapping the elements\n",
    "        if min != i:\n",
    "            swap = L[i]\n",
    "            L[i] = L[min]\n",
    "            L[min] = swap\n",
    "\n",
    "    print(L)"
   ]
  },
  {
   "cell_type": "code",
   "execution_count": 7,
   "id": "49dc82c8-b96d-4a79-9462-ea1441a7cfda",
   "metadata": {},
   "outputs": [
    {
     "name": "stdout",
     "output_type": "stream",
     "text": [
      "[10, 20, 30, 40, 50, 60]\n"
     ]
    }
   ],
   "source": [
    "selection_sort(L)"
   ]
  },
  {
   "cell_type": "markdown",
   "id": "c9b5b27a-d3f4-43a4-9212-3b494d22f9e6",
   "metadata": {},
   "source": [
    "<hr>"
   ]
  },
  {
   "cell_type": "markdown",
   "id": "4fe9517f-c247-4ba5-aaa4-cd1200cfa77a",
   "metadata": {},
   "source": [
    "Best/Worse cases of selection sort are $order(n^2)$"
   ]
  },
  {
   "cell_type": "markdown",
   "id": "7fb1ab7e-a06f-446f-908e-9896665b10a0",
   "metadata": {
    "jp-MarkdownHeadingCollapsed": true
   },
   "source": [
    "### Insertion Sort"
   ]
  },
  {
   "cell_type": "code",
   "execution_count": 33,
   "id": "f00095bf-5a27-4235-80e3-0d19db8c8215",
   "metadata": {},
   "outputs": [],
   "source": [
    "A = [40,20,60,10,50,30]"
   ]
  },
  {
   "cell_type": "code",
   "execution_count": 36,
   "id": "84b234f0-021f-4870-a3f5-11b7164f32ea",
   "metadata": {},
   "outputs": [],
   "source": [
    "def insertion_sort(A):\n",
    "    for i in range(1,len(A)):\n",
    "        key = A[i]\n",
    "        j = i-1\n",
    "\n",
    "        while j > -1 and A[j] > key:\n",
    "            A[j+1] = A[j]\n",
    "            j = j-1\n",
    "        A[j+1] = key\n",
    "    return A"
   ]
  },
  {
   "cell_type": "code",
   "execution_count": 37,
   "id": "33c1fd21-abeb-4440-941d-3e4e3cfcf195",
   "metadata": {},
   "outputs": [
    {
     "name": "stdout",
     "output_type": "stream",
     "text": [
      "[10, 20, 30, 40, 50, 60]\n"
     ]
    }
   ],
   "source": [
    "print(insertion_sort(A))"
   ]
  },
  {
   "cell_type": "markdown",
   "id": "94b30e0f-4067-4925-ac40-3ead0a6b2180",
   "metadata": {},
   "source": [
    "<hr>"
   ]
  },
  {
   "cell_type": "markdown",
   "id": "0df6ecbd-2cb4-4264-aeeb-7f1120a45f87",
   "metadata": {},
   "source": [
    "Best case for insertion sort is of -> $order(n)$ <br>\n",
    "Worse case for insertion sort is of -> $order(n^2)$"
   ]
  },
  {
   "cell_type": "markdown",
   "id": "f152bb47-4651-4406-b3c0-f2a9b08646db",
   "metadata": {},
   "source": [
    "### Merge Sort"
   ]
  },
  {
   "cell_type": "code",
   "execution_count": 2,
   "id": "0dc522e8",
   "metadata": {},
   "outputs": [],
   "source": [
    "l2 = [8,2,4,7,1,3,9,6,5]"
   ]
  },
  {
   "cell_type": "code",
   "execution_count": 5,
   "id": "eb5b227e-1c64-4d2e-9220-4660c3012485",
   "metadata": {},
   "outputs": [],
   "source": [
    "def merge(A,B):\n",
    "    (m,n) = (len(A),len(B))\n",
    "    (c,i,j) = ([],0,0)\n",
    "    \n",
    "    #Case-1\n",
    "    while i<m and j<n:\n",
    "        if A[i] <= B[j]:\n",
    "            c.append(A[i])\n",
    "            i+=1\n",
    "        else:\n",
    "            c.append(B[j])\n",
    "            j+=1\n",
    "    \n",
    "    #Case-2\n",
    "    while i<m:\n",
    "        c.append(A[i])\n",
    "        i+=1\n",
    "    \n",
    "    #Case-3\n",
    "    while j<n:\n",
    "        c.append(B[j])\n",
    "        j += 1\n",
    "        \n",
    "    return c\n",
    "    \n",
    "    \n",
    "def mergesort(l):\n",
    "    n = len(l)\n",
    "    if n <= 1:\n",
    "        return l\n",
    "    Left_Half = mergesort(l[:n//2])\n",
    "    Right_Half = mergesort(l[n//2:])\n",
    "    Sorted_Merged_List = merge(Left_Half,Right_Half)\n",
    "    return Sorted_Merged_List"
   ]
  },
  {
   "cell_type": "code",
   "execution_count": 6,
   "id": "4bd804c4",
   "metadata": {},
   "outputs": [
    {
     "name": "stdout",
     "output_type": "stream",
     "text": [
      "[1, 2, 3, 4, 5, 6, 7, 8, 9]\n"
     ]
    }
   ],
   "source": [
    "print(mergesort(l2))"
   ]
  },
  {
   "cell_type": "markdown",
   "id": "084fb8c9-00c3-41bb-a398-1e1ab994e229",
   "metadata": {},
   "source": [
    "### Quick Sort"
   ]
  },
  {
   "cell_type": "code",
   "execution_count": 12,
   "id": "cd208451-44ec-425e-9996-e417fcf28cf6",
   "metadata": {},
   "outputs": [],
   "source": [
    "l = [8,2,4,7,1,3,9,6,5]"
   ]
  },
  {
   "cell_type": "code",
   "execution_count": 13,
   "id": "f6c533a8",
   "metadata": {},
   "outputs": [],
   "source": [
    "def quick_sort(l):\n",
    "    \n",
    "    if len(l) == 1:\n",
    "        return l\n",
    "    \n",
    "    pivot = l[-1]\n",
    "    j = -1\n",
    "    len_list = len(l)\n",
    "    \n",
    "    for i in range(len(l)):\n",
    "        temp = None\n",
    "        if l[i] < pivot and j+1 != i:\n",
    "            j += 1\n",
    "            temp = l[i]\n",
    "            l[i] = l[j]\n",
    "            l[j] = temp\n",
    "        elif i == l.index(l[-1]):\n",
    "            temp = l[i]\n",
    "            l[i] = l[j+1]\n",
    "            l[j+1] = temp\n",
    "        else:\n",
    "            pass\n",
    "\n",
    "    return(l)\n",
    "    "
   ]
  },
  {
   "cell_type": "code",
   "execution_count": 14,
   "id": "c99206dd",
   "metadata": {},
   "outputs": [
    {
     "name": "stdout",
     "output_type": "stream",
     "text": [
      "[2, 4, 1, 3, 5, 7, 9, 6, 8]\n"
     ]
    }
   ],
   "source": [
    "print(quick_sort(l))"
   ]
  },
  {
   "cell_type": "markdown",
   "id": "ab318f27",
   "metadata": {},
   "source": [
    "### Adjacency Matrix"
   ]
  },
  {
   "cell_type": "markdown",
   "id": "81ee6472",
   "metadata": {},
   "source": [
    "<b>This is the graph that we will define in python</b>"
   ]
  },
  {
   "attachments": {
    "image.png": {
     "image/png": "[encoded data removed]"
    }
   },
   "cell_type": "markdown",
   "id": "fb549d4e",
   "metadata": {},
   "source": [
    "![image.png](attachment:image.png)"
   ]
  },
  {
   "cell_type": "code",
   "execution_count": 16,
   "id": "1999dfd5",
   "metadata": {},
   "outputs": [],
   "source": [
    "import numpy as np\n",
    "\n",
    "V = [0,1,2,3,4]\n",
    "E = [(0, 1), (0, 2), (1, 3), (1, 4), (2, 4), (2, 3), (3, 4)]\n",
    "\n",
    "size = len(V)\n",
    "Amat = np.zeros(shape=(size,size))\n",
    "\n",
    "for (i,j) in E:\n",
    "    Amat[i][j] = 1"
   ]
  },
  {
   "cell_type": "code",
   "execution_count": 34,
   "id": "d1c426bb",
   "metadata": {},
   "outputs": [
    {
     "name": "stdout",
     "output_type": "stream",
     "text": [
      "[[0. 1. 1. 0. 0.]\n",
      " [0. 0. 0. 1. 1.]\n",
      " [0. 0. 0. 1. 1.]\n",
      " [0. 0. 0. 0. 1.]\n",
      " [0. 0. 0. 0. 0.]]\n"
     ]
    }
   ],
   "source": [
    "print(Amat)"
   ]
  },
  {
   "cell_type": "code",
   "execution_count": 32,
   "id": "1b49712c",
   "metadata": {},
   "outputs": [],
   "source": [
    "AList = {}\n",
    "\n",
    "for i in range(size):\n",
    "    AList[i] = []\n",
    "for (i,j) in E:\n",
    "    AList[i].append(j)"
   ]
  },
  {
   "cell_type": "code",
   "execution_count": 33,
   "id": "2cd28e33",
   "metadata": {},
   "outputs": [
    {
     "name": "stdout",
     "output_type": "stream",
     "text": [
      "0 : [1, 2]\n",
      "1 : [3, 4]\n",
      "2 : [4, 3]\n",
      "3 : [4]\n",
      "4 : []\n"
     ]
    }
   ],
   "source": [
    "for key,values in AList.items():\n",
    "    print(f\"{key} : {values}\")"
   ]
  },
  {
   "cell_type": "markdown",
   "id": "0ec04092",
   "metadata": {},
   "source": [
    "## BFS"
   ]
  },
  {
   "cell_type": "markdown",
   "id": "2093f471",
   "metadata": {},
   "source": [
    "<b>Implementing BFS using Adjancency List</b>"
   ]
  },
  {
   "cell_type": "code",
   "execution_count": 35,
   "id": "2154ffe2",
   "metadata": {},
   "outputs": [],
   "source": [
    "class Queue:\n",
    "\n",
    "    def __init__(self):\n",
    "        self.queue = []\n",
    "\n",
    "    def enqueue(self,v):\n",
    "        self.queue.append(v)\n",
    "\n",
    "    def isempty(self):\n",
    "        return(self.queue == [])    \n",
    "\n",
    "    def dequeue(self):\n",
    "        v = None\n",
    "        if not self.isempty():\n",
    "            v = self.queue[0]\n",
    "            self.queue = self.queue[1:]\n",
    "        return(v)    \n",
    "\n",
    "    def __str__(self):\n",
    "        return(str(self.queue))"
   ]
  },
  {
   "cell_type": "code",
   "execution_count": 36,
   "id": "c8f68f14",
   "metadata": {},
   "outputs": [],
   "source": [
    "# BFS Implementation For Adjacency list\n",
    "def BFSList(AList,start_vertex):\n",
    "\n",
    "    # Initialization\n",
    "    visited = {}\n",
    "    for each_vertex in AList.keys():\n",
    "        visited[each_vertex] = False    \n",
    "\n",
    "    # Create Queue object q\n",
    "    q = Queue()\n",
    "\n",
    "    # Mark the start_vertex visited and insert it into the queue \n",
    "    visited[start_vertex] = True\n",
    "    q.enqueue(start_vertex)\n",
    "\n",
    "    # Repeat the following until the queue is empty \n",
    "    while(not q.isempty()):\n",
    "\n",
    "        # Remove the one vertex from queue\n",
    "        curr_vertex = q.dequeue()\n",
    "\n",
    "        # Visit each adjacent of the removed vertex (if not visited), mark that visited, and insert it into the queue \n",
    "        for adj_vertex in AList[curr_vertex]:\n",
    "            if (not visited[adj_vertex]):\n",
    "                visited[adj_vertex] = True\n",
    "                q.enqueue(adj_vertex)               \n",
    "    return(visited)"
   ]
  },
  {
   "cell_type": "code",
   "execution_count": 37,
   "id": "8dbc3317",
   "metadata": {},
   "outputs": [
    {
     "name": "stdout",
     "output_type": "stream",
     "text": [
      "{0: True, 1: True, 2: True, 3: True, 4: True}\n"
     ]
    }
   ],
   "source": [
    "AList = {0: [1, 2], 1: [3, 4], 2: [4, 3], 3: [4], 4: []}\n",
    "print(BFSList(AList,0))"
   ]
  },
  {
   "cell_type": "markdown",
   "id": "0321799b",
   "metadata": {},
   "source": [
    "<b>Implementing BFS using Adjancency Matrix</b>"
   ]
  },
  {
   "cell_type": "code",
   "execution_count": 38,
   "id": "562747fa",
   "metadata": {},
   "outputs": [],
   "source": [
    "# Queue Implementation\n",
    "\n",
    "class Queue:\n",
    "    def __init__(self):\n",
    "        self.queue = []\n",
    "\n",
    "    def enqueue(self,v):\n",
    "        self.queue.append(v)\n",
    "\n",
    "    def isempty(self):\n",
    "        return(self.queue == [])\n",
    "\n",
    "    def dequeue(self):\n",
    "        v = None\n",
    "        if not self.isempty():\n",
    "            v = self.queue[0]\n",
    "            self.queue = self.queue[1:]\n",
    "        return(v)    \n",
    "\n",
    "    def __str__(self):\n",
    "        return(str(self.queue))"
   ]
  },
  {
   "cell_type": "code",
   "execution_count": 39,
   "id": "2b898614",
   "metadata": {},
   "outputs": [],
   "source": [
    "# Function to return list of neighbours or adjacent vertex of vertex i\n",
    "def neighbours(AMat,i):\n",
    "    nbrs = []\n",
    "    (rows,cols) = AMat.shape\n",
    "    \n",
    "    for j in range(cols):\n",
    "        if AMat[i,j] == 1:\n",
    "            nbrs.append(j)\n",
    "\n",
    "    return(nbrs)"
   ]
  },
  {
   "cell_type": "code",
   "execution_count": 40,
   "id": "08f4918e",
   "metadata": {},
   "outputs": [],
   "source": [
    "# BFS Implementation For Adjacency matrix\n",
    "def BFS(AMat,start_vertex):\n",
    "    \n",
    "    # Initialization\n",
    "    (rows,cols) = AMat.shape\n",
    "    visited = {}\n",
    "    \n",
    "    for each_vertex in range(rows):\n",
    "        visited[each_vertex] = False    \n",
    "\n",
    "    # Create Queue object q\n",
    "    q = Queue()\n",
    "\n",
    "    # Mark the start_vertex visited and insert it into the queue \n",
    "    visited[start_vertex] = True\n",
    "    q.enqueue(start_vertex)\n",
    "\n",
    "    # Repeat the following until the queue is empty \n",
    "    while(not q.isempty()):\n",
    "\n",
    "        # Remove the one vertex from queue\n",
    "        curr_vertex = q.dequeue()\n",
    "\n",
    "        # Visit the each adjacent of removed vertex(if not visited) and insert into the queue\n",
    "        for adj_vertex in neighbours(AMat,curr_vertex):\n",
    "            if (not visited[adj_vertex]):\n",
    "                visited[adj_vertex] = True\n",
    "                q.enqueue(adj_vertex)\n",
    "\n",
    "    return(visited)"
   ]
  },
  {
   "cell_type": "code",
   "execution_count": 41,
   "id": "6130f865",
   "metadata": {},
   "outputs": [],
   "source": [
    "V = [0,1,2,3,4]\n",
    "E = [(0, 1), (0, 2), (1, 3), (1, 4), (2, 4), (2, 3), (3, 4)] \n",
    "size = len(V)\n",
    "\n",
    "import numpy as np\n",
    "AMat = np.zeros(shape=(size,size))\n",
    "\n",
    "for (i,j) in E:\n",
    "    AMat[i,j] = 1"
   ]
  },
  {
   "cell_type": "code",
   "execution_count": 42,
   "id": "e27b3266",
   "metadata": {},
   "outputs": [
    {
     "name": "stdout",
     "output_type": "stream",
     "text": [
      "{0: True, 1: True, 2: True, 3: True, 4: True}\n"
     ]
    }
   ],
   "source": [
    "print(BFS(AMat,0))"
   ]
  },
  {
   "cell_type": "markdown",
   "id": "b8c61caf",
   "metadata": {},
   "source": [
    "## DFS"
   ]
  },
  {
   "cell_type": "markdown",
   "id": "66aaf36a",
   "metadata": {},
   "source": [
    "<b>Implementing DFS for adjacency list of graph</b>"
   ]
  },
  {
   "cell_type": "code",
   "execution_count": 43,
   "id": "88eb0787",
   "metadata": {},
   "outputs": [],
   "source": [
    "# Stack Implementation\n",
    "\n",
    "class Stack:\n",
    "    def __init__(self):\n",
    "        self.stack = []\n",
    "\n",
    "    def Push(self,v):\n",
    "        self.stack.append(v)\n",
    "\n",
    "    def isempty(self):\n",
    "        return(self.stack == [])\n",
    "\n",
    "    def Pop(self):\n",
    "        v = None\n",
    "        \n",
    "        if not self.isempty():\n",
    "            v = self.stack.pop()\n",
    "            \n",
    "        return(v)    \n",
    "\n",
    "    def __str__(self):\n",
    "        return(str(self.stack))\n",
    "\n",
    "\n",
    "# DFS Implementation for Adjacency list\n",
    "def DFSList(AList,start_vertex):\n",
    "\n",
    "    # Initializaion\n",
    "    visited = {}\n",
    "\n",
    "    for each_vertex in AList.keys():\n",
    "        visited[each_vertex] = False    \n",
    "\n",
    "    # Create stack object st\n",
    "    st = Stack()\n",
    "\n",
    "    # Push start_vertex in to the stack as first vertex\n",
    "    st.Push(start_vertex)    \n",
    "\n",
    "    # Repeat the following until the stack is empty\n",
    "    while(not st.isempty()):\n",
    "\n",
    "        # Pop one vertex from stack \n",
    "        current_vertex = st.Pop()\n",
    "\n",
    "        # If popped vertex is not visited, marked visited\n",
    "        if visited[current_vertex] == False:\n",
    "            visited[current_vertex] = True\n",
    "\n",
    "            # Push all unvisited adjacent of popped vertex into the stack\n",
    "            for adj_veretx in AList[current_vertex]:\n",
    "                 if(not visited[adj_veretx]):\n",
    "                     st.Push(adj_veretx)    \n",
    "                    \n",
    "    return(visited)"
   ]
  },
  {
   "cell_type": "code",
   "execution_count": 44,
   "id": "8a37adfa",
   "metadata": {},
   "outputs": [
    {
     "name": "stdout",
     "output_type": "stream",
     "text": [
      "{0: True, 1: True, 2: True, 3: True, 4: True}\n"
     ]
    }
   ],
   "source": [
    "AList ={0: [1, 2], 1: [3, 4], 2: [4, 3], 3: [4], 4: []}\n",
    "print(DFSList(AList,0))"
   ]
  },
  {
   "cell_type": "markdown",
   "id": "fe9c5c24",
   "metadata": {},
   "source": [
    "<b>Implementing DFS using Recurssion (without using external stack)</b>"
   ]
  },
  {
   "cell_type": "code",
   "execution_count": 47,
   "id": "62226b84",
   "metadata": {},
   "outputs": [],
   "source": [
    "# Initialization Function\n",
    "def DFSInitList(AList):\n",
    "    (visited,parent) = ({},{})\n",
    "\n",
    "    for each_vertex in AList.keys():\n",
    "        visited[each_vertex] = False\n",
    "        parent[each_vertex] = -1\n",
    "\n",
    "    return(visited,parent)"
   ]
  },
  {
   "cell_type": "code",
   "execution_count": 48,
   "id": "79be4058",
   "metadata": {},
   "outputs": [],
   "source": [
    "# DFS Recursive Implementation for Adjacency list\n",
    "def DFSList(AList,visited,parent,v):\n",
    "\n",
    "    # Mark vertex v as visited vertex\n",
    "    visited[v] = True\n",
    "\n",
    "    # Repeat following for each unvisited adjacent of vertex v\n",
    "    for adj_vertex in AList[v]:\n",
    "        if (not visited[adj_vertex]):\n",
    "            \n",
    "            # Assign vertex v as parent of each unvisited adjacent of v \n",
    "            parent[adj_vertex] = v\n",
    "\n",
    "        \n",
    "            # Recursively call the DFS on unvisited adjacent of v\n",
    "            (visited,parent) = DFSList(AList,visited,parent,adj_vertex)\n",
    "\n",
    "    return(visited,parent)"
   ]
  },
  {
   "cell_type": "code",
   "execution_count": 49,
   "id": "b7bbab3d",
   "metadata": {},
   "outputs": [
    {
     "name": "stdout",
     "output_type": "stream",
     "text": [
      "({0: True, 1: True, 2: True, 3: True, 4: True}, {0: -1, 1: 0, 2: 0, 3: 1, 4: 3})\n"
     ]
    }
   ],
   "source": [
    "AList ={0: [1, 2], 1: [3, 4], 2: [4, 3], 3: [4], 4: []}\n",
    "v,p = DFSInitList(AList)\n",
    "print(DFSList(AList,v,p,0))"
   ]
  },
  {
   "cell_type": "markdown",
   "id": "032a605c",
   "metadata": {},
   "source": [
    "<b>Implementing DFS using Adjacency Matrix</b>"
   ]
  },
  {
   "cell_type": "code",
   "execution_count": 50,
   "id": "1582f867",
   "metadata": {},
   "outputs": [],
   "source": [
    "# Function to return list of neighbours or adjacent vertex of vertex i\n",
    "\n",
    "def neighbours(AMat,i):\n",
    "    nbrs = []\n",
    "    (rows,cols) = AMat.shape\n",
    "\n",
    "    for j in range(cols):\n",
    "        if AMat[i,j] == 1:\n",
    "            nbrs.append(j)\n",
    "\n",
    "    return(nbrs)"
   ]
  },
  {
   "cell_type": "code",
   "execution_count": 52,
   "id": "e3884c88",
   "metadata": {},
   "outputs": [],
   "source": [
    "# Initialization Function\n",
    "def DFSInit(AMat):\n",
    "    (rows,cols) = AMat.shape\n",
    "    (visited,parent) = ({},{})\n",
    "\n",
    "    for each_vertex in range(rows):\n",
    "        visited[each_vertex] = False\n",
    "        parent[each_vertex] = -1\n",
    "\n",
    "    return(visited,parent)"
   ]
  },
  {
   "cell_type": "code",
   "execution_count": 53,
   "id": "762c01e6",
   "metadata": {},
   "outputs": [],
   "source": [
    "# DFS Recursive Implementation for Adjacency matrix\n",
    "def DFS(AMat,visited,parent,v):\n",
    "\n",
    "    # Mark vertex v as visited vertex\n",
    "    visited[v] = True\n",
    "\n",
    "    # Repeat following for each unvisited adjacent of vertex v\n",
    "    for adj_vertex in neighbours(AMat,v):\n",
    "        if (not visited[adj_vertex]):\n",
    "\n",
    "            # Assign vertex v as parent of each unvisited adjacent of v \n",
    "            parent[adj_vertex] = v\n",
    "\n",
    "            # Recursively call the DFS on unvisited adjacent of v\n",
    "            (visited,parent) = DFS(AMat,visited,parent,adj_vertex)\n",
    "\n",
    "    return(visited,parent)"
   ]
  },
  {
   "cell_type": "code",
   "execution_count": 54,
   "id": "d0a644b9",
   "metadata": {},
   "outputs": [],
   "source": [
    "V = [0,1,2,3,4]\n",
    "E = [(0, 1), (0, 2), (1, 3), (1, 4), (2, 4), (2, 3), (3, 4)] \n",
    "size = len(V)\n",
    "\n",
    "import numpy as np\n",
    "AMat = np.zeros(shape=(size,size))\n",
    "\n",
    "for (i,j) in E:\n",
    "    AMat[i,j] = 1"
   ]
  },
  {
   "cell_type": "code",
   "execution_count": 55,
   "id": "5be8cb6a",
   "metadata": {},
   "outputs": [
    {
     "name": "stdout",
     "output_type": "stream",
     "text": [
      "({0: True, 1: True, 2: True, 3: True, 4: True}, {0: -1, 1: 0, 2: 0, 3: 1, 4: 3})\n"
     ]
    }
   ],
   "source": [
    "v,p=DFSInit(AMat)\n",
    "print(DFS(AMat,v,p,0))"
   ]
  },
  {
   "cell_type": "code",
   "execution_count": null,
   "id": "ba1f6c8e",
   "metadata": {},
   "outputs": [],
   "source": []
  }
 ],
 "metadata": {
  "kernelspec": {
   "display_name": "Python 3 (ipykernel)",
   "language": "python",
   "name": "python3"
  },
  "language_info": {
   "codemirror_mode": {
    "name": "ipython",
    "version": 3
   },
   "file_extension": ".py",
   "mimetype": "text/x-python",
   "name": "python",
   "nbconvert_exporter": "python",
   "pygments_lexer": "ipython3",
   "version": "3.10.12"
  }
 },
 "nbformat": 4,
 "nbformat_minor": 5
}
