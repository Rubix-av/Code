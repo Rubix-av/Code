{
 "cells": [
  {
   "cell_type": "code",
   "execution_count": 1,
   "id": "e341eed3-a05e-4db3-825c-344be9961201",
   "metadata": {},
   "outputs": [
    {
     "name": "stdout",
     "output_type": "stream",
     "text": [
      "[1 2 3 1 0 2 0]\n"
     ]
    }
   ],
   "source": [
    "from sklearn.preprocessing import LabelEncoder\n",
    "\n",
    "data = ['cat', 'dog', 'fish', 'cat', 'bird', 'dog', 'bird']\n",
    "\n",
    "encoder = LabelEncoder()\n",
    "encoded_data = encoder.fit_transform(data)\n",
    "print(encoded_data)"
   ]
  },
  {
   "cell_type": "code",
   "execution_count": 6,
   "id": "549300cd-5f01-418a-a12e-e0a705b41af4",
   "metadata": {},
   "outputs": [
    {
     "data": {
      "text/plain": [
       "array(['dog'], dtype='<U4')"
      ]
     },
     "execution_count": 6,
     "metadata": {},
     "output_type": "execute_result"
    }
   ],
   "source": [
    "encoder.inverse_transform([2])"
   ]
  },
  {
   "cell_type": "code",
   "execution_count": 12,
   "id": "e802ac6f-aa54-400f-9070-32be26a4e2e6",
   "metadata": {},
   "outputs": [
    {
     "name": "stdout",
     "output_type": "stream",
     "text": [
      "Original data:  [[ 2.  5.]\n",
      " [ 4.  8.]\n",
      " [ 6. 12.]]\n",
      "\n",
      "Scaled data:  [[-1.22474487 -1.16247639]\n",
      " [ 0.         -0.11624764]\n",
      " [ 1.22474487  1.27872403]]\n"
     ]
    }
   ],
   "source": [
    "from sklearn.preprocessing import StandardScaler\n",
    "import numpy as np\n",
    "\n",
    "data = np.array([[2.0, 5.0],\n",
    "                [4.0, 8.0],\n",
    "                [6.0, 12.0]])\n",
    "\n",
    "scaler = StandardScaler()\n",
    "scaled_data = scaler.fit_transform(data)\n",
    "\n",
    "print(\"Original data: \", data)\n",
    "print()\n",
    "print(\"Scaled data: \", scaled_data)"
   ]
  },
  {
   "cell_type": "code",
   "execution_count": 16,
   "id": "ff2902d6-41a9-41ca-b024-c7a8ed476216",
   "metadata": {},
   "outputs": [
    {
     "name": "stdout",
     "output_type": "stream",
     "text": [
      "[[1. 1. 3. 3.]\n",
      " [1. 2. 4. 8.]]\n",
      "\n",
      "[[ 1.  1.  3.  1.  3.  9.  1.  3.  9. 27.]\n",
      " [ 1.  2.  4.  4.  8. 16.  8. 16. 32. 64.]]\n"
     ]
    }
   ],
   "source": [
    "from sklearn.preprocessing import PolynomialFeatures\n",
    "\n",
    "data = [[1,3],\n",
    "        [2,4]]\n",
    "\n",
    "pf1 = PolynomialFeatures(degree=3, interaction_only=True)\n",
    "pf2 = PolynomialFeatures(degree=3, interaction_only=False)\n",
    "print(pf1.fit_transform(data))\n",
    "print()\n",
    "print(pf2.fit_transform(data))"
   ]
  },
  {
   "cell_type": "markdown",
   "id": "4a178c75-308e-4561-b79d-f8815e51b647",
   "metadata": {},
   "source": [
    "---"
   ]
  },
  {
   "cell_type": "code",
   "execution_count": 23,
   "id": "31ad5279-dd49-4b7f-a3fb-a2b295e788fb",
   "metadata": {},
   "outputs": [
    {
     "name": "stdout",
     "output_type": "stream",
     "text": [
      "[1]\n"
     ]
    }
   ],
   "source": [
    "from sklearn.linear_model import Perceptron\n",
    "X = [[0,0], [0,1], [1,0], [1,1]]\n",
    "y = [0,0,0,1]\n",
    "\n",
    "clf = Perceptron(tol=None, shuffle=False)\n",
    "clf.fit(X, y)\n",
    "\n",
    "print(clf.predict([[1,1]]))"
   ]
  },
  {
   "cell_type": "code",
   "execution_count": 27,
   "id": "0f60a7bb-e45f-4911-966b-6cf602d25249",
   "metadata": {},
   "outputs": [
    {
     "name": "stdout",
     "output_type": "stream",
     "text": [
      "[1]\n",
      "[1]\n"
     ]
    }
   ],
   "source": [
    "from sklearn.naive_bayes import GaussianNB\n",
    "\n",
    "X = np.array([[-1, -1], [-2, -1], [-3, -2], [1, 1], [2, 1], [3, 2]])\n",
    "Y = np.array([1, 1, 1, 2, 2, 2])\n",
    "\n",
    "clf = GaussianNB()\n",
    "clf.fit(X, Y)\n",
    "\n",
    "data = np.array([[-0.8, -1]])\n",
    "print(clf.predict(data))\n",
    "\n",
    "clf_pf = GaussianNB()\n",
    "clf_pf.partial_fit(X, Y, np.unique(Y))\n",
    "\n",
    "new_data = np.array([[-0.8, -1]])\n",
    "print(clf_pf.predict(new_data))"
   ]
  },
  {
   "cell_type": "code",
   "execution_count": 30,
   "id": "bf0039cc-c1a0-43bb-9c98-7ee4a28934cf",
   "metadata": {},
   "outputs": [
    {
     "name": "stdout",
     "output_type": "stream",
     "text": [
      "[1]\n"
     ]
    }
   ],
   "source": [
    "from sklearn.neighbors import KNeighborsClassifier\n",
    "\n",
    "X = [[2,3], [5,6], [10,11], [15,16], [20,21]]\n",
    "y = [0, 1, 1, 1, 2]\n",
    "\n",
    "knn = KNeighborsClassifier(n_neighbors=3,\n",
    "                           metric=\"euclidean\",\n",
    "                           weights=\"uniform\")\n",
    "\n",
    "knn.fit(X, y)\n",
    "print(knn.predict([[8,9]]))"
   ]
  },
  {
   "cell_type": "code",
   "execution_count": 33,
   "id": "f148eaf5-b5b7-41d3-8bb8-c2027f24ff8f",
   "metadata": {},
   "outputs": [
    {
     "name": "stdout",
     "output_type": "stream",
     "text": [
      "(2, 16)\n"
     ]
    }
   ],
   "source": [
    "from sklearn.feature_extraction.text import CountVectorizer\n",
    "\n",
    "corpus = [\"Bias is actually the error rate of the training data\",\n",
    "          \"The difference between train and test error is called variance.\"]\n",
    "\n",
    "vectorizer = CountVectorizer()\n",
    "vectors = vectorizer.fit_transform(corpus)\n",
    "print(vectors.shape)"
   ]
  },
  {
   "cell_type": "code",
   "execution_count": 35,
   "id": "726c8b78-6d08-4a81-a3a7-589483a32591",
   "metadata": {},
   "outputs": [
    {
     "name": "stdout",
     "output_type": "stream",
     "text": [
      "Labels:  [2 1 0 1 0]\n",
      "Centroids:  [[ 65.    2.5]\n",
      " [275.   10. ]\n",
      " [150.    6. ]]\n"
     ]
    }
   ],
   "source": [
    "from sklearn.cluster import KMeans\n",
    "\n",
    "data = np.array([[150,6], [300,12], [50,2], [250,8], [80,3]])\n",
    "\n",
    "kmeans = KMeans(n_clusters=3)\n",
    "kmeans.fit(data)\n",
    "\n",
    "labels = kmeans.labels_\n",
    "centroids = kmeans.cluster_centers_\n",
    "\n",
    "print(\"Labels: \", labels)\n",
    "print(\"Centroids: \", centroids)"
   ]
  },
  {
   "cell_type": "code",
   "execution_count": 2,
   "id": "8f2d787b-3689-4d2a-8d6f-5d730bc74614",
   "metadata": {},
   "outputs": [
    {
     "data": {
      "text/plain": [
       "array(['and', 'document', 'first', 'is', 'one', 'second', 'the', 'third',\n",
       "       'this'], dtype=object)"
      ]
     },
     "execution_count": 2,
     "metadata": {},
     "output_type": "execute_result"
    }
   ],
   "source": [
    "from sklearn.feature_extraction.text import CountVectorizer\n",
    "\n",
    "corpus = [\n",
    "    'This is the first document.',\n",
    "    'This document is the second document.',\n",
    "    'And this is the third one.',\n",
    "    'Is this the first document?',\n",
    "]\n",
    "\n",
    "vectorizer = CountVectorizer()\n",
    "X = vectorizer.fit_transform(corpus)\n",
    "vectorizer.get_feature_names_out()"
   ]
  },
  {
   "cell_type": "code",
   "execution_count": 4,
   "id": "60f02fb3-1f69-42d0-ac44-9cacd0922653",
   "metadata": {},
   "outputs": [
    {
     "data": {
      "text/plain": [
       "(4, 9)"
      ]
     },
     "execution_count": 4,
     "metadata": {},
     "output_type": "execute_result"
    }
   ],
   "source": [
    "X.shape"
   ]
  },
  {
   "cell_type": "code",
   "execution_count": null,
   "id": "7e35f0e2-9815-4fb9-838a-27a04f4f1837",
   "metadata": {},
   "outputs": [],
   "source": []
  }
 ],
 "metadata": {
  "kernelspec": {
   "display_name": "Python 3 (ipykernel)",
   "language": "python",
   "name": "python3"
  },
  "language_info": {
   "codemirror_mode": {
    "name": "ipython",
    "version": 3
   },
   "file_extension": ".py",
   "mimetype": "text/x-python",
   "name": "python",
   "nbconvert_exporter": "python",
   "pygments_lexer": "ipython3",
   "version": "3.12.1"
  }
 },
 "nbformat": 4,
 "nbformat_minor": 5
}
