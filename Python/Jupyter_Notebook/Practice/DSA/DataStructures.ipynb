{
 "cells": [
  {
   "cell_type": "markdown",
   "id": "bfb4ff85-72e6-4818-8100-a0588f69a0ca",
   "metadata": {
    "jp-MarkdownHeadingCollapsed": true
   },
   "source": [
    "### Stack"
   ]
  },
  {
   "cell_type": "code",
   "execution_count": 2,
   "id": "d80f400f-0029-4f14-864c-41b481608fa3",
   "metadata": {},
   "outputs": [],
   "source": [
    "class stack:\n",
    "    def __init__(self):\n",
    "        self.values = []\n",
    "    def push(self,x):\n",
    "        self.values = [x] + self.values\n",
    "    def pop(self):\n",
    "        return self.values.pop(0)"
   ]
  },
  {
   "cell_type": "code",
   "execution_count": 3,
   "id": "23a143aa-6d23-48b2-841b-f4276486cfb8",
   "metadata": {},
   "outputs": [],
   "source": [
    "s = stack()\n",
    "s.push(10)\n",
    "s.push(20)\n",
    "s.push(30)\n",
    "s.push(40)"
   ]
  },
  {
   "cell_type": "code",
   "execution_count": 4,
   "id": "788a8b56-c8a5-49ee-bfdb-dfbe75dacbd9",
   "metadata": {},
   "outputs": [
    {
     "data": {
      "text/plain": [
       "[40, 30, 20, 10]"
      ]
     },
     "execution_count": 4,
     "metadata": {},
     "output_type": "execute_result"
    }
   ],
   "source": [
    "s.values"
   ]
  },
  {
   "cell_type": "code",
   "execution_count": 5,
   "id": "dbb72f49-679d-4404-8c52-c2bd148fd98e",
   "metadata": {},
   "outputs": [
    {
     "name": "stdout",
     "output_type": "stream",
     "text": [
      "40\n"
     ]
    },
    {
     "data": {
      "text/plain": [
       "[30, 20, 10]"
      ]
     },
     "execution_count": 5,
     "metadata": {},
     "output_type": "execute_result"
    }
   ],
   "source": [
    "print(s.pop())\n",
    "s.values"
   ]
  },
  {
   "cell_type": "markdown",
   "id": "3ea38947-acb9-4717-9903-8823627a47c5",
   "metadata": {},
   "source": [
    "### Queue"
   ]
  },
  {
   "cell_type": "code",
   "execution_count": 6,
   "id": "8306b05d-1aa8-4a6f-be56-7028e5d703f8",
   "metadata": {},
   "outputs": [],
   "source": [
    "class Queue:\n",
    "    def __init__(self):\n",
    "        self.values = []\n",
    "    def enqueue(self,x):\n",
    "        self.values.append(x)\n",
    "    def dequeue(self):\n",
    "        front = self.values[0]\n",
    "        self.values = self.values[1:]\n",
    "        return front        "
   ]
  },
  {
   "cell_type": "code",
   "execution_count": 7,
   "id": "5b908dd3",
   "metadata": {},
   "outputs": [],
   "source": [
    "queue = Queue()\n",
    "queue.enqueue(10)\n",
    "queue.enqueue(20)\n",
    "queue.enqueue(30)\n",
    "queue.enqueue(40)"
   ]
  },
  {
   "cell_type": "code",
   "execution_count": 8,
   "id": "194ad4ed-8ddc-4628-becc-9c63bb5125b5",
   "metadata": {},
   "outputs": [
    {
     "data": {
      "text/plain": [
       "[10, 20, 30, 40]"
      ]
     },
     "execution_count": 8,
     "metadata": {},
     "output_type": "execute_result"
    }
   ],
   "source": [
    "queue.values"
   ]
  },
  {
   "cell_type": "code",
   "execution_count": 9,
   "id": "01a5f3a7-86f6-449f-af45-eb94f8c10db5",
   "metadata": {},
   "outputs": [
    {
     "name": "stdout",
     "output_type": "stream",
     "text": [
      "10\n"
     ]
    },
    {
     "data": {
      "text/plain": [
       "[20, 30, 40]"
      ]
     },
     "execution_count": 9,
     "metadata": {},
     "output_type": "execute_result"
    }
   ],
   "source": [
    "print(queue.dequeue())\n",
    "queue.values"
   ]
  }
 ],
 "metadata": {
  "kernelspec": {
   "display_name": "Python 3 (ipykernel)",
   "language": "python",
   "name": "python3"
  },
  "language_info": {
   "codemirror_mode": {
    "name": "ipython",
    "version": 3
   },
   "file_extension": ".py",
   "mimetype": "text/x-python",
   "name": "python",
   "nbconvert_exporter": "python",
   "pygments_lexer": "ipython3",
   "version": "3.10.12"
  }
 },
 "nbformat": 4,
 "nbformat_minor": 5
}
